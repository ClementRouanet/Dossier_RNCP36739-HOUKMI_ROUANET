{
 "cells": [
  {
   "cell_type": "code",
   "execution_count": 1,
   "id": "73ef0cf3",
   "metadata": {},
   "outputs": [],
   "source": [
    "from pyspark.sql import SparkSession, Row\n",
    "from pyspark.sql.types import StructType, StructField, StringType, IntegerType, TimestampType\n",
    "import pyspark.sql.functions as F\n",
    "from pyspark.sql.window import Window\n",
    "\n",
    "import boto3\n",
    "\n",
    "from pyspark.ml.feature import VectorAssembler\n",
    "from pyspark.ml.regression import LinearRegression"
   ]
  },
  {
   "cell_type": "code",
   "execution_count": 2,
   "id": "0e68180a",
   "metadata": {},
   "outputs": [],
   "source": [
    "import pandas as pd\n",
    "import matplotlib.pyplot as plt"
   ]
  },
  {
   "cell_type": "markdown",
   "id": "7dcf6abf",
   "metadata": {},
   "source": [
    "# Initialisation de Spark"
   ]
  },
  {
   "cell_type": "code",
   "execution_count": 3,
   "id": "397387dc",
   "metadata": {},
   "outputs": [
    {
     "data": {
      "text/html": [
       "\n",
       "            <div>\n",
       "                <p><b>SparkSession - in-memory</b></p>\n",
       "                \n",
       "        <div>\n",
       "            <p><b>SparkContext</b></p>\n",
       "\n",
       "            <p><a href=\"http://localhost:4040\">Spark UI</a></p>\n",
       "\n",
       "            <dl>\n",
       "              <dt>Version</dt>\n",
       "                <dd><code>v3.5.1</code></dd>\n",
       "              <dt>Master</dt>\n",
       "                <dd><code>local[*]</code></dd>\n",
       "              <dt>AppName</dt>\n",
       "                <dd><code>Projet de Fin d'Etude</code></dd>\n",
       "            </dl>\n",
       "        </div>\n",
       "        \n",
       "            </div>\n",
       "        "
      ],
      "text/plain": [
       "<pyspark.sql.session.SparkSession at 0x21d4fac4e10>"
      ]
     },
     "execution_count": 3,
     "metadata": {},
     "output_type": "execute_result"
    }
   ],
   "source": [
    "# Initialisation de la session Spark\n",
    "spark = SparkSession \\\n",
    "    .builder \\\n",
    "    .config(\"spark.driver.host\", \"localhost\") \\\n",
    "    .config(\"spark.driver.port\", \"9000\") \\\n",
    "    .master(\"local[*]\") \\\n",
    "    .appName(\"Projet de Fin d'Etude\") \\\n",
    "    .getOrCreate()\n",
    "\n",
    "spark"
   ]
  },
  {
   "cell_type": "code",
   "execution_count": 4,
   "id": "37860e07",
   "metadata": {},
   "outputs": [],
   "source": [
    "sc = spark.sparkContext"
   ]
  },
  {
   "cell_type": "markdown",
   "id": "051fff11",
   "metadata": {},
   "source": [
    "# Chargement des données structurées"
   ]
  },
  {
   "cell_type": "code",
   "execution_count": 5,
   "id": "25ec60e6",
   "metadata": {},
   "outputs": [],
   "source": [
    "# Informations de connexion à RDS\n",
    "jdbc_url = \"jdbc:mysql://database-grp6.chcmvnn5gnpv.us-east-1.rds.amazonaws.com:3306/raw_data?serverTimezone=UTC\"\n",
    "db_properties = {\n",
    "    \"user\": \"admin\",\n",
    "    \"password\": \"xxxx\",\n",
    "    \"driver\": \"com.mysql.jdbc.Driver\"\n",
    "}"
   ]
  },
  {
   "cell_type": "code",
   "execution_count": 6,
   "id": "cd2bbf77",
   "metadata": {},
   "outputs": [],
   "source": [
    "# Liste des noms des tables RDS\n",
    "table_names = [\n",
    "    \"orders\",\n",
    "    \"order_items\",\n",
    "    \"order_payments\",\n",
    "    \"order_reviews\",\n",
    "    \"products\",\n",
    "    \"products_translated\",\n",
    "    \"geolocation\",\n",
    "    \"states_name\"\n",
    "]"
   ]
  },
  {
   "cell_type": "code",
   "execution_count": 7,
   "id": "cf8489eb",
   "metadata": {},
   "outputs": [
    {
     "data": {
      "text/plain": [
       "{'orders': DataFrame[order_id: string, customer_id: string, order_status: string, order_purchase_timestamp: timestamp, order_approved_at: timestamp, order_delivered_carrier_date: timestamp, order_delivered_customer_date: timestamp, order_estimated_delivery_date: timestamp],\n",
       " 'order_items': DataFrame[order_id: string, order_item_id: int, product_id: string, seller_id: string, shipping_limit_date: timestamp, price: double, freight_value: double],\n",
       " 'order_payments': DataFrame[order_id: string, payment_sequential: int, payment_type: string, payment_installments: int, payment_value: double],\n",
       " 'order_reviews': DataFrame[review_id: string, order_id: string, review_score: int, review_comment_title: string, review_comment_message: string, review_creation_date: timestamp, review_answer_timestamp: timestamp],\n",
       " 'products': DataFrame[product_id: string, product_category_name: string, product_name_lenght: int, product_description_lenght: int, product_photos_qty: int, product_weight_g: int, product_length_cm: int, product_height_cm: int, product_width_cm: int],\n",
       " 'products_translated': DataFrame[product_category_name: string, product_category_name_english: string],\n",
       " 'geolocation': DataFrame[geolocation_zip_code_prefix: int, geolocation_lat: double, geolocation_lng: double, geolocation_city: string, geolocation_state: string],\n",
       " 'states_name': DataFrame[geolocation_state: string, state_name: string]}"
      ]
     },
     "execution_count": 7,
     "metadata": {},
     "output_type": "execute_result"
    }
   ],
   "source": [
    "# Créer un dictionnaire de DataFrames\n",
    "dataframes = {table_name: spark.read.jdbc(url=jdbc_url, table=table_name, properties=db_properties) for table_name in table_names}\n",
    "dataframes"
   ]
  },
  {
   "cell_type": "markdown",
   "id": "e6f103da",
   "metadata": {},
   "source": [
    "# Chargement des données non structurées"
   ]
  },
  {
   "cell_type": "code",
   "execution_count": 8,
   "id": "7bb314e8",
   "metadata": {},
   "outputs": [],
   "source": [
    "# Configuration des identifiants AWS\n",
    "aws_access_key_id = ''\n",
    "aws_secret_access_key = ''\n",
    "region_name = 'us-east-1'"
   ]
  },
  {
   "cell_type": "code",
   "execution_count": 9,
   "id": "b6bbd5ad",
   "metadata": {},
   "outputs": [],
   "source": [
    "# Informations de connexion à DynamoDB\n",
    "dynamodb = boto3.resource('dynamodb', \n",
    "                          aws_access_key_id=aws_access_key_id, \n",
    "                          aws_secret_access_key=aws_secret_access_key, \n",
    "                          region_name=region_name)"
   ]
  },
  {
   "cell_type": "code",
   "execution_count": 10,
   "id": "805a3595",
   "metadata": {},
   "outputs": [],
   "source": [
    "#Lecture de la table \"customers\" de DynamoDB\n",
    "table = dynamodb.Table(\"customers\")\n",
    "\n",
    "# Récupérer les items de la table\n",
    "response = table.scan()\n",
    "items = response['Items']\n",
    "\n",
    "# Convertir les items en DataFrame Spark\n",
    "df = spark.createDataFrame(items)\n",
    "\n",
    "# Sélectionner les champs\n",
    "dataframes[\"customers\"] = df.select(\n",
    "    F.col(\"customer_id\"),\n",
    "    F.col(\"customer_unique_id\"),\n",
    "    F.col(\"customer_zip_code\"),\n",
    "    F.col(\"customer_city\"),\n",
    "    F.col(\"customer_state\")\n",
    ")"
   ]
  },
  {
   "cell_type": "code",
   "execution_count": 11,
   "id": "0c119e19",
   "metadata": {},
   "outputs": [],
   "source": [
    "#Lecture de la table \"sellers\" de DynamoDB\n",
    "table = dynamodb.Table(\"sellers\")\n",
    "\n",
    "# Récupérer les items de la table\n",
    "response = table.scan()\n",
    "items = response['Items']\n",
    "\n",
    "# Convertir les items en DataFrame Spark\n",
    "df = spark.createDataFrame(items)\n",
    "\n",
    "# Sélectionner les champs\n",
    "dataframes[\"sellers\"] = df.select(\n",
    "    F.col(\"seller_id\"),\n",
    "    F.col(\"seller_zip_code\"),\n",
    "    F.col(\"seller_city\"),\n",
    "    F.col(\"seller_state\")\n",
    ")"
   ]
  },
  {
   "cell_type": "code",
   "execution_count": 12,
   "id": "8c72fb05",
   "metadata": {},
   "outputs": [
    {
     "data": {
      "text/plain": [
       "{'orders': DataFrame[order_id: string, customer_id: string, order_status: string, order_purchase_timestamp: timestamp, order_approved_at: timestamp, order_delivered_carrier_date: timestamp, order_delivered_customer_date: timestamp, order_estimated_delivery_date: timestamp],\n",
       " 'order_items': DataFrame[order_id: string, order_item_id: int, product_id: string, seller_id: string, shipping_limit_date: timestamp, price: double, freight_value: double],\n",
       " 'order_payments': DataFrame[order_id: string, payment_sequential: int, payment_type: string, payment_installments: int, payment_value: double],\n",
       " 'order_reviews': DataFrame[review_id: string, order_id: string, review_score: int, review_comment_title: string, review_comment_message: string, review_creation_date: timestamp, review_answer_timestamp: timestamp],\n",
       " 'products': DataFrame[product_id: string, product_category_name: string, product_name_lenght: int, product_description_lenght: int, product_photos_qty: int, product_weight_g: int, product_length_cm: int, product_height_cm: int, product_width_cm: int],\n",
       " 'products_translated': DataFrame[product_category_name: string, product_category_name_english: string],\n",
       " 'geolocation': DataFrame[geolocation_zip_code_prefix: int, geolocation_lat: double, geolocation_lng: double, geolocation_city: string, geolocation_state: string],\n",
       " 'states_name': DataFrame[geolocation_state: string, state_name: string],\n",
       " 'customers': DataFrame[customer_id: string, customer_unique_id: string, customer_zip_code: decimal(38,18), customer_city: string, customer_state: string],\n",
       " 'sellers': DataFrame[seller_id: string, seller_zip_code: decimal(38,18), seller_city: string, seller_state: string]}"
      ]
     },
     "execution_count": 12,
     "metadata": {},
     "output_type": "execute_result"
    }
   ],
   "source": [
    "dataframes"
   ]
  },
  {
   "cell_type": "markdown",
   "id": "fa146286",
   "metadata": {},
   "source": [
    "# Changement type variables"
   ]
  },
  {
   "cell_type": "code",
   "execution_count": 13,
   "id": "a3f710e0",
   "metadata": {},
   "outputs": [],
   "source": [
    "dataframes[\"customers\"] = dataframes[\"customers\"].withColumn(\"customer_zip_code\", F.col(\"customer_zip_code\").cast(\"int\"))\n",
    "dataframes[\"sellers\"] = dataframes[\"sellers\"].withColumn(\"seller_zip_code\", F.col(\"seller_zip_code\").cast(\"int\"))"
   ]
  },
  {
   "cell_type": "code",
   "execution_count": 14,
   "id": "765dc5ad",
   "metadata": {},
   "outputs": [
    {
     "name": "stdout",
     "output_type": "stream",
     "text": [
      "root\n",
      " |-- customer_id: string (nullable = true)\n",
      " |-- customer_unique_id: string (nullable = true)\n",
      " |-- customer_zip_code: integer (nullable = true)\n",
      " |-- customer_city: string (nullable = true)\n",
      " |-- customer_state: string (nullable = true)\n",
      "\n",
      "root\n",
      " |-- seller_id: string (nullable = true)\n",
      " |-- seller_zip_code: integer (nullable = true)\n",
      " |-- seller_city: string (nullable = true)\n",
      " |-- seller_state: string (nullable = true)\n",
      "\n"
     ]
    }
   ],
   "source": [
    "dataframes[\"customers\"].printSchema()\n",
    "dataframes[\"sellers\"].printSchema()"
   ]
  },
  {
   "cell_type": "markdown",
   "id": "de76a95f",
   "metadata": {},
   "source": [
    "# Changement nom colonne"
   ]
  },
  {
   "cell_type": "code",
   "execution_count": 15,
   "id": "ce96bc93",
   "metadata": {},
   "outputs": [],
   "source": [
    "dataframes[\"products\"] = dataframes[\"products\"] \\\n",
    "    .withColumnRenamed(\"product_name_lenght\", \"product_name_length\") \\\n",
    "    .withColumnRenamed(\"product_description_lenght\", \"product_description_length\")"
   ]
  },
  {
   "cell_type": "markdown",
   "id": "59b68809",
   "metadata": {},
   "source": [
    "# Nettoyage des données dupliquées"
   ]
  },
  {
   "cell_type": "code",
   "execution_count": 16,
   "id": "9f0bf421",
   "metadata": {
    "scrolled": true
   },
   "outputs": [
    {
     "name": "stdout",
     "output_type": "stream",
     "text": [
      "Duplicates lines in orders DataFrame : 0\n",
      "Duplicates lines in order_items DataFrame : 0\n",
      "Duplicates lines in order_payments DataFrame : 0\n",
      "Duplicates lines in order_reviews DataFrame : 0\n",
      "Duplicates lines in products DataFrame : 0\n",
      "Duplicates lines in products_translated DataFrame : 0\n",
      "Duplicates lines in geolocation DataFrame : 128174\n",
      "+---------------------------+-------------------+-------------------+----------------+-----------------+-----+\n",
      "|geolocation_zip_code_prefix|geolocation_lat    |geolocation_lng    |geolocation_city|geolocation_state|count|\n",
      "+---------------------------+-------------------+-------------------+----------------+-----------------+-----+\n",
      "|1026                       |-23.53925652899767 |-46.633440525535235|sao paulo       |SP               |2    |\n",
      "|1106                       |-23.531062064948905|-46.629505278925556|sao paulo       |SP               |2    |\n",
      "|1241                       |-23.545792634196992|-46.6567234730798  |sao paulo       |SP               |3    |\n",
      "|1226                       |-23.538190850683794|-46.651323227306854|são paulo       |SP               |4    |\n",
      "|1223                       |-23.543735510964265|-46.65415427699233 |sao paulo       |SP               |2    |\n",
      "|1303                       |-23.551504721622702|-46.64945164585375 |sao paulo       |SP               |3    |\n",
      "|1306                       |-23.554051920624367|-46.6487385976975  |são paulo       |SP               |4    |\n",
      "|1306                       |-23.554051920624367|-46.6487385976975  |sao paulo       |SP               |6    |\n",
      "|1332                       |-23.560667077990644|-46.65212849125743 |sao paulo       |SP               |2    |\n",
      "|1404                       |-23.56708790175425 |-46.654359318339246|sao paulo       |SP               |7    |\n",
      "|1433                       |-23.577661519562607|-46.67074707591319 |sao paulo       |SP               |2    |\n",
      "|1441                       |-23.577709985861734|-46.69330789771487 |sao paulo       |SP               |4    |\n",
      "|1415                       |-23.55150606272721 |-46.654135569940564|sao paulo       |SP               |2    |\n",
      "|1532                       |-23.57418642936694 |-46.6357481924808  |são paulo       |SP               |3    |\n",
      "|2013                       |-23.501039877603997|-46.637789893011686|sao paulo       |SP               |2    |\n",
      "|2022                       |-23.503235899124   |-46.63832674543861 |sao paulo       |SP               |3    |\n",
      "|2077                       |-23.501848610046736|-46.59854287330482 |sao paulo       |SP               |4    |\n",
      "|2180                       |-23.51796174271452 |-46.56586340175424 |sao paulo       |SP               |3    |\n",
      "|2168                       |-23.52218624279628 |-46.57970414962962 |sao paulo       |SP               |2    |\n",
      "|2121                       |-23.509798868168936|-46.592326749379616|sao paulo       |SP               |2    |\n",
      "+---------------------------+-------------------+-------------------+----------------+-----------------+-----+\n",
      "only showing top 20 rows\n",
      "\n",
      "Duplicates lines in states_name DataFrame : 0\n",
      "Duplicates lines in customers DataFrame : 0\n",
      "Duplicates lines in sellers DataFrame : 0\n"
     ]
    }
   ],
   "source": [
    "# Parcourir chaque DataFrame et compter les lignes dupliquées\n",
    "for key, df in dataframes.items():\n",
    "    duplicate_rows = df.groupBy(df.columns).count().where(F.col(\"count\") > 1)\n",
    "    print(f\"Duplicates lines in {key} DataFrame : {duplicate_rows.count()}\")\n",
    "    if duplicate_rows.count() > 0:\n",
    "        duplicate_rows.show(truncate=False)"
   ]
  },
  {
   "cell_type": "code",
   "execution_count": 17,
   "id": "7b304f04",
   "metadata": {},
   "outputs": [
    {
     "name": "stdout",
     "output_type": "stream",
     "text": [
      "Duplicates lines in geolocation DataFrame : 0\n"
     ]
    }
   ],
   "source": [
    "# Suppression des lignes dupliquées dans le Dataframe geolocation\n",
    "dataframes[\"geolocation\"] = dataframes[\"geolocation\"].dropDuplicates()\n",
    "\n",
    "# Vérification que les lignes dupliquées ont bien été supprimées\n",
    "df = dataframes[\"geolocation\"]\n",
    "duplicate_rows = df.groupBy(df.columns).count().where(F.col(\"count\") > 1)\n",
    "print(f\"Duplicates lines in geolocation DataFrame : {duplicate_rows.count()}\")"
   ]
  },
  {
   "cell_type": "markdown",
   "id": "9bbe4853",
   "metadata": {},
   "source": [
    "# Suppression des valeurs dupliquées de l'ID dans la table order_items"
   ]
  },
  {
   "cell_type": "code",
   "execution_count": 18,
   "id": "9391043d",
   "metadata": {},
   "outputs": [
    {
     "name": "stdout",
     "output_type": "stream",
     "text": [
      "+--------------------------------+-------------+--------------------------------+--------------------------------+-------------------+-----+-------------+\n",
      "|order_id                        |order_item_id|product_id                      |seller_id                       |shipping_limit_date|price|freight_value|\n",
      "+--------------------------------+-------------+--------------------------------+--------------------------------+-------------------+-----+-------------+\n",
      "|00143d0f86d6fbd9f9b38ab440ac16f5|1            |e95ee6822b66ac6058e2e4aff656071a|a17f621c590ea0fab3d5d883e1630ec6|2017-10-20 18:07:52|21.33|15.1         |\n",
      "|00143d0f86d6fbd9f9b38ab440ac16f5|2            |e95ee6822b66ac6058e2e4aff656071a|a17f621c590ea0fab3d5d883e1630ec6|2017-10-20 18:07:52|21.33|15.1         |\n",
      "|00143d0f86d6fbd9f9b38ab440ac16f5|3            |e95ee6822b66ac6058e2e4aff656071a|a17f621c590ea0fab3d5d883e1630ec6|2017-10-20 18:07:52|21.33|15.1         |\n",
      "+--------------------------------+-------------+--------------------------------+--------------------------------+-------------------+-----+-------------+\n",
      "\n"
     ]
    }
   ],
   "source": [
    "dataframes[\"order_items\"].filter(F.col('order_id')=='00143d0f86d6fbd9f9b38ab440ac16f5') \\\n",
    "    .show(truncate=False)"
   ]
  },
  {
   "cell_type": "code",
   "execution_count": 19,
   "id": "27cea1b4",
   "metadata": {},
   "outputs": [],
   "source": [
    "# Trouver la valeur maximale pour 'order_item_id' pour chaque 'order_id'\n",
    "max_order_items_id = dataframes[\"order_items\"] \\\n",
    "    .groupBy(\"order_id\") \\\n",
    "    .agg(F.max(\"order_item_id\").alias(\"max_order_item_id\"))\n",
    "\n",
    "\n",
    "# Joindre le résultat avec le df originel pour obtenir toutes les colonnes\n",
    "order_items_joined = dataframes[\"order_items\"].join(max_order_items_id, \n",
    "                                    (dataframes[\"order_items\"].order_id == max_order_items_id.order_id) & \n",
    "                                    (dataframes[\"order_items\"].order_item_id == max_order_items_id.max_order_item_id))\n",
    "\n",
    "\n",
    "dataframes[\"order_items\"] = order_items_joined.select(dataframes[\"order_items\"][\"*\"])"
   ]
  },
  {
   "cell_type": "code",
   "execution_count": 20,
   "id": "7597a096",
   "metadata": {},
   "outputs": [
    {
     "name": "stdout",
     "output_type": "stream",
     "text": [
      "+--------------------------------+-------------+--------------------------------+--------------------------------+-------------------+-----+-------------+\n",
      "|order_id                        |order_item_id|product_id                      |seller_id                       |shipping_limit_date|price|freight_value|\n",
      "+--------------------------------+-------------+--------------------------------+--------------------------------+-------------------+-----+-------------+\n",
      "|00143d0f86d6fbd9f9b38ab440ac16f5|3            |e95ee6822b66ac6058e2e4aff656071a|a17f621c590ea0fab3d5d883e1630ec6|2017-10-20 18:07:52|21.33|15.1         |\n",
      "+--------------------------------+-------------+--------------------------------+--------------------------------+-------------------+-----+-------------+\n",
      "\n"
     ]
    }
   ],
   "source": [
    "dataframes[\"order_items\"].filter(F.col('order_id')=='00143d0f86d6fbd9f9b38ab440ac16f5') \\\n",
    "    .show(truncate=False)"
   ]
  },
  {
   "cell_type": "markdown",
   "id": "f7c870bd",
   "metadata": {},
   "source": [
    "# Remplacement noms catégories de portugais à anglais"
   ]
  },
  {
   "cell_type": "code",
   "execution_count": 21,
   "id": "ef070ea0",
   "metadata": {},
   "outputs": [
    {
     "name": "stdout",
     "output_type": "stream",
     "text": [
      "+---------------------+\n",
      "|product_category_name|\n",
      "+---------------------+\n",
      "|                     |\n",
      "+---------------------+\n",
      "\n"
     ]
    }
   ],
   "source": [
    "# Vérification que toutes les catégories en portugais ont une traduction en anglais\n",
    "p = dataframes[\"products\"].select(\"product_category_name\").distinct()\n",
    "t = dataframes[\"products_translated\"].select(\"product_category_name\").distinct()\n",
    "\n",
    "p.subtract(t).show()"
   ]
  },
  {
   "cell_type": "code",
   "execution_count": 22,
   "id": "e22d58a7",
   "metadata": {},
   "outputs": [
    {
     "name": "stdout",
     "output_type": "stream",
     "text": [
      "+--------------------+---------------------+-------------------+--------------------------+------------------+----------------+-----------------+-----------------+----------------+\n",
      "|          product_id|product_category_name|product_name_length|product_description_length|product_photos_qty|product_weight_g|product_length_cm|product_height_cm|product_width_cm|\n",
      "+--------------------+---------------------+-------------------+--------------------------+------------------+----------------+-----------------+-----------------+----------------+\n",
      "|00088930e925c41fd...|                 auto|                 56|                       752|                 4|            1225|               55|               10|              26|\n",
      "|0011c512eb256aa0d...|                 auto|                 58|                       177|                 1|             100|               16|               15|              16|\n",
      "|000d9be29b5207b54...|        watches_gifts|                 48|                       613|                 4|             250|               22|               11|              15|\n",
      "|00066f42aeeb9f300...|            perfumery|                 53|                       596|                 6|             300|               20|               16|              16|\n",
      "|000b8f95fcb9e0096...|           housewares|                 25|                       364|                 3|             550|               19|               24|              12|\n",
      "+--------------------+---------------------+-------------------+--------------------------+------------------+----------------+-----------------+-----------------+----------------+\n",
      "only showing top 5 rows\n",
      "\n"
     ]
    }
   ],
   "source": [
    "# Jointure entre products et products_translated sur la colonne product_category_name\n",
    "joined_df = dataframes[\"products\"].alias(\"p\") \\\n",
    "    .join(\n",
    "        dataframes[\"products_translated\"].alias(\"pt\"),\n",
    "        F.col(\"p.product_category_name\") == F.col(\"pt.product_category_name\"),\n",
    "        \"left\"\n",
    "    )\n",
    "\n",
    "# Suppression du champs avec le om du produit en portugais\n",
    "joined_df = joined_df.drop(\"product_category_name\")\n",
    "\n",
    "# Renommage de la colonne product_category_name_english\n",
    "joined_df = joined_df.withColumnRenamed(\"product_category_name_english\", \"product_category_name\")\n",
    "\n",
    "# Réagencement des colonnes du DataFrame\n",
    "new_columns = [joined_df.columns[0]] + [\"product_category_name\"] + [col for col in joined_df.columns[1:-1]]\n",
    "dataframes[\"products\"] = joined_df.select(new_columns)\n",
    "\n",
    "# Mettre à jour le DataFrame dans le dictionnaire\n",
    "dataframes[\"products\"].show(5)\n"
   ]
  },
  {
   "cell_type": "markdown",
   "id": "48b70481",
   "metadata": {},
   "source": [
    "# Nettoyage des valeurs nulles"
   ]
  },
  {
   "cell_type": "code",
   "execution_count": 23,
   "id": "045400f0",
   "metadata": {},
   "outputs": [],
   "source": [
    "# Fonction pour compter les valeurs nulles par colonne\n",
    "def count_nulls(df):\n",
    "    return df.select([F.sum(F.col(c).isNull().cast(\"int\")).alias(c) for c in df.columns])"
   ]
  },
  {
   "cell_type": "code",
   "execution_count": 24,
   "id": "02c77313",
   "metadata": {},
   "outputs": [
    {
     "name": "stdout",
     "output_type": "stream",
     "text": [
      "Null values in orders DataFrame :\n",
      "+--------+-----------+------------+------------------------+-----------------+----------------------------+-----------------------------+-----------------------------+\n",
      "|order_id|customer_id|order_status|order_purchase_timestamp|order_approved_at|order_delivered_carrier_date|order_delivered_customer_date|order_estimated_delivery_date|\n",
      "+--------+-----------+------------+------------------------+-----------------+----------------------------+-----------------------------+-----------------------------+\n",
      "|0       |0          |0           |0                       |160              |1783                        |2965                         |0                            |\n",
      "+--------+-----------+------------+------------------------+-----------------+----------------------------+-----------------------------+-----------------------------+\n",
      "\n",
      "Null values in order_items DataFrame :\n",
      "+--------+-------------+----------+---------+-------------------+-----+-------------+\n",
      "|order_id|order_item_id|product_id|seller_id|shipping_limit_date|price|freight_value|\n",
      "+--------+-------------+----------+---------+-------------------+-----+-------------+\n",
      "|0       |0            |0         |0        |0                  |0    |0            |\n",
      "+--------+-------------+----------+---------+-------------------+-----+-------------+\n",
      "\n",
      "Null values in order_payments DataFrame :\n",
      "+--------+------------------+------------+--------------------+-------------+\n",
      "|order_id|payment_sequential|payment_type|payment_installments|payment_value|\n",
      "+--------+------------------+------------+--------------------+-------------+\n",
      "|0       |0                 |0           |0                   |0            |\n",
      "+--------+------------------+------------+--------------------+-------------+\n",
      "\n",
      "Null values in order_reviews DataFrame :\n",
      "+---------+--------+------------+--------------------+----------------------+--------------------+-----------------------+\n",
      "|review_id|order_id|review_score|review_comment_title|review_comment_message|review_creation_date|review_answer_timestamp|\n",
      "+---------+--------+------------+--------------------+----------------------+--------------------+-----------------------+\n",
      "|0        |0       |0           |0                   |0                     |0                   |0                      |\n",
      "+---------+--------+------------+--------------------+----------------------+--------------------+-----------------------+\n",
      "\n",
      "Null values in products DataFrame :\n",
      "+----------+---------------------+-------------------+--------------------------+------------------+----------------+-----------------+-----------------+----------------+\n",
      "|product_id|product_category_name|product_name_length|product_description_length|product_photos_qty|product_weight_g|product_length_cm|product_height_cm|product_width_cm|\n",
      "+----------+---------------------+-------------------+--------------------------+------------------+----------------+-----------------+-----------------+----------------+\n",
      "|0         |610                  |610                |610                       |610               |2               |2                |2                |2               |\n",
      "+----------+---------------------+-------------------+--------------------------+------------------+----------------+-----------------+-----------------+----------------+\n",
      "\n",
      "Null values in products_translated DataFrame :\n",
      "+---------------------+-----------------------------+\n",
      "|product_category_name|product_category_name_english|\n",
      "+---------------------+-----------------------------+\n",
      "|0                    |0                            |\n",
      "+---------------------+-----------------------------+\n",
      "\n",
      "Null values in geolocation DataFrame :\n",
      "+---------------------------+---------------+---------------+----------------+-----------------+\n",
      "|geolocation_zip_code_prefix|geolocation_lat|geolocation_lng|geolocation_city|geolocation_state|\n",
      "+---------------------------+---------------+---------------+----------------+-----------------+\n",
      "|0                          |0              |0              |0               |0                |\n",
      "+---------------------------+---------------+---------------+----------------+-----------------+\n",
      "\n",
      "Null values in states_name DataFrame :\n",
      "+-----------------+----------+\n",
      "|geolocation_state|state_name|\n",
      "+-----------------+----------+\n",
      "|0                |0         |\n",
      "+-----------------+----------+\n",
      "\n",
      "Null values in customers DataFrame :\n",
      "+-----------+------------------+-----------------+-------------+--------------+\n",
      "|customer_id|customer_unique_id|customer_zip_code|customer_city|customer_state|\n",
      "+-----------+------------------+-----------------+-------------+--------------+\n",
      "|0          |0                 |0                |0            |0             |\n",
      "+-----------+------------------+-----------------+-------------+--------------+\n",
      "\n",
      "Null values in sellers DataFrame :\n",
      "+---------+---------------+-----------+------------+\n",
      "|seller_id|seller_zip_code|seller_city|seller_state|\n",
      "+---------+---------------+-----------+------------+\n",
      "|0        |0              |0          |0           |\n",
      "+---------+---------------+-----------+------------+\n",
      "\n"
     ]
    }
   ],
   "source": [
    "# Parcourir chaque DataFrame et compter les valeurs nulles\n",
    "for key, df in dataframes.items():\n",
    "    null_counts = count_nulls(df)\n",
    "    print(f\"Null values in {key} DataFrame :\")\n",
    "    null_counts.show(truncate=False)"
   ]
  },
  {
   "cell_type": "code",
   "execution_count": 25,
   "id": "4a889f27",
   "metadata": {},
   "outputs": [
    {
     "name": "stdout",
     "output_type": "stream",
     "text": [
      "Null values in products DataFrame :\n",
      "+----------+---------------------+-------------------+--------------------------+------------------+----------------+-----------------+-----------------+----------------+\n",
      "|product_id|product_category_name|product_name_length|product_description_length|product_photos_qty|product_weight_g|product_length_cm|product_height_cm|product_width_cm|\n",
      "+----------+---------------------+-------------------+--------------------------+------------------+----------------+-----------------+-----------------+----------------+\n",
      "|0         |0                    |0                  |0                         |0                 |0               |0                |0                |0               |\n",
      "+----------+---------------------+-------------------+--------------------------+------------------+----------------+-----------------+-----------------+----------------+\n",
      "\n"
     ]
    }
   ],
   "source": [
    "# Remplacement des valeurs nulles de \"products\" : String -> \"Other\"  &  Int -> -1\n",
    "dataframes[\"products\"] = dataframes[\"products\"] \\\n",
    "    .withColumn(\"product_category_name\", F.when(F.col(\"product_category_name\").isNull(), \"unknown\").otherwise(F.col(\"product_category_name\"))) \\\n",
    "    .withColumn(\"product_name_length\", F.when(F.col(\"product_name_length\").isNull(), -1).otherwise(F.col(\"product_name_length\"))) \\\n",
    "    .withColumn(\"product_description_length\", F.when(F.col(\"product_description_length\").isNull(), -1).otherwise(F.col(\"product_description_length\"))) \\\n",
    "    .withColumn(\"product_photos_qty\", F.when(F.col(\"product_photos_qty\").isNull(), -1).otherwise(F.col(\"product_photos_qty\"))) \\\n",
    "    .withColumn(\"product_weight_g\", F.when(F.col(\"product_weight_g\").isNull(), -1).otherwise(F.col(\"product_weight_g\"))) \\\n",
    "    .withColumn(\"product_length_cm\", F.when(F.col(\"product_length_cm\").isNull(), -1).otherwise(F.col(\"product_length_cm\"))) \\\n",
    "    .withColumn(\"product_height_cm\", F.when(F.col(\"product_height_cm\").isNull(), -1).otherwise(F.col(\"product_height_cm\"))) \\\n",
    "    .withColumn(\"product_width_cm\", F.when(F.col(\"product_width_cm\").isNull(), -1).otherwise(F.col(\"product_width_cm\")))\n",
    "\n",
    "# Vérification que toutes les valeurs nulles de products ont été remplacée\n",
    "null_counts = count_nulls(dataframes[\"products\"])\n",
    "print(f\"Null values in products DataFrame :\")\n",
    "null_counts.show(truncate=False)"
   ]
  },
  {
   "cell_type": "markdown",
   "id": "7bf154df",
   "metadata": {},
   "source": [
    "# Ajout  champs "
   ]
  },
  {
   "cell_type": "code",
   "execution_count": 26,
   "id": "ad59c585",
   "metadata": {},
   "outputs": [
    {
     "name": "stdout",
     "output_type": "stream",
     "text": [
      "+--------------------+-------------+--------------------+--------------------+-------------------+------+-------------+-----------------+-------------------+------------------+\n",
      "|            order_id|order_item_id|          product_id|           seller_id|shipping_limit_date| price|freight_value|total_items_value|total_freight_value| total_order_value|\n",
      "+--------------------+-------------+--------------------+--------------------+-------------------+------+-------------+-----------------+-------------------+------------------+\n",
      "|0103878b7ed86b6ec...|            1|447934cd014b03328...|b4f8921fcc4ff77b6...|2018-08-20 02:15:41|229.99|        35.37|           229.99|              35.37|            265.36|\n",
      "|01fba151a6fa8315f...|            1|c1488892604e4ba5c...|1554a68530182680a...|2017-07-14 16:23:25|  38.5|        19.88|             38.5|              19.88|58.379999999999995|\n",
      "|021f26893462ec6a6...|            1|f6fa93875f4a7dac0...|391fc6631aebcf300...|2017-07-18 17:32:13| 49.95|        11.85|            49.95|              11.85|61.800000000000004|\n",
      "|02346fd715e28d8e4...|            1|165f86fe8b799a708...|7ddcbb64b5bc1ef36...|2017-11-14 22:26:31|146.99|        16.66|           146.99|              16.66|            163.65|\n",
      "|02dbd29bc7a490d58...|            1|c863f578eb77e9238...|b4ffb71f0cb1b1c3d...|2017-12-04 13:11:19|  48.3|        21.15|             48.3|              21.15| 69.44999999999999|\n",
      "|0306b467a7c7d400d...|            1|72ef87b1953a2844e...|8c16d1f32a54d9289...|2018-02-08 03:53:21|  61.5|        13.58|             61.5|              13.58|             75.08|\n",
      "|0354fc44bfc5b7a6d...|            1|4cb922d064b9a86b2...|3078096983cf766a3...|2018-02-01 10:34:23| 89.99|        13.65|            89.99|              13.65|            103.64|\n",
      "|0363e6de0e2139c49...|            1|940d38f0ef286bd93...|53e4c6e0f4312d4d2...|2018-04-23 14:53:44| 85.71|        11.69|            85.71|              11.69| 97.39999999999999|\n",
      "|03679d41c590caa3f...|            1|2b4ad41f87f5ca9da...|63b464dbf392c7b80...|2017-02-15 16:47:22| 159.0|        26.61|            159.0|              26.61|            185.61|\n",
      "|03e4b19921428d651...|            1|389d119b48cf3043d...|1f50f920176fa81da...|2018-01-18 14:49:23|  49.9|        13.37|             49.9|              13.37|63.269999999999996|\n",
      "+--------------------+-------------+--------------------+--------------------+-------------------+------+-------------+-----------------+-------------------+------------------+\n",
      "only showing top 10 rows\n",
      "\n"
     ]
    }
   ],
   "source": [
    "dataframes[\"order_items\"] = dataframes[\"order_items\"] \\\n",
    "    .withColumn(\"total_items_value\", F.col(\"price\") * F.col(\"order_item_id\")) \\\n",
    "    .withColumn(\"total_freight_value\", F.col(\"freight_value\") * F.col(\"order_item_id\")) \\\n",
    "    .withColumn(\"total_order_value\", F.col(\"total_items_value\") + F.col(\"total_freight_value\"))\n",
    "\n",
    "dataframes[\"order_items\"].show(10)"
   ]
  },
  {
   "cell_type": "markdown",
   "id": "2a832f28",
   "metadata": {},
   "source": [
    "# Chargement des Dataframes nettoyés en Table"
   ]
  },
  {
   "cell_type": "code",
   "execution_count": 27,
   "id": "caa8c143",
   "metadata": {},
   "outputs": [],
   "source": [
    "# Informations de connexion à RDS\n",
    "jdbc_url = \"jdbc:mysql://database-grp6.chcmvnn5gnpv.us-east-1.rds.amazonaws.com:3306/cleaned_data?serverTimezone=UTC\"\n",
    "db_properties = {\n",
    "    \"user\": \"admin\",\n",
    "    \"password\": \"xxx\",\n",
    "    \"driver\": \"com.mysql.jdbc.Driver\"\n",
    "}"
   ]
  },
  {
   "cell_type": "code",
   "execution_count": 28,
   "id": "2fee71aa",
   "metadata": {},
   "outputs": [
    {
     "name": "stdout",
     "output_type": "stream",
     "text": [
      "Début :  orders\n",
      "Fin :  orders\n",
      "Début :  order_items\n",
      "Fin :  order_items\n",
      "Début :  order_payments\n",
      "Fin :  order_payments\n",
      "Début :  order_reviews\n",
      "Fin :  order_reviews\n",
      "Début :  products\n",
      "Fin :  products\n",
      "Début :  products_translated\n",
      "Fin :  products_translated\n",
      "Début :  geolocation\n",
      "Fin :  geolocation\n",
      "Début :  states_name\n",
      "Fin :  states_name\n",
      "Début :  customers\n",
      "Fin :  customers\n",
      "Début :  sellers\n",
      "Fin :  sellers\n"
     ]
    }
   ],
   "source": [
    "# Écrire le DataFrame dans la table RDS\n",
    "for table_name, df in dataframes.items() :\n",
    "    print(\"Début : \", table_name)\n",
    "    df.write.jdbc(url=jdbc_url, table=table_name, mode=\"overwrite\", properties=db_properties)\n",
    "    print(\"Fin : \", table_name)"
   ]
  }
 ],
 "metadata": {
  "kernelspec": {
   "display_name": "Python 3 (ipykernel)",
   "language": "python",
   "name": "python3"
  },
  "language_info": {
   "codemirror_mode": {
    "name": "ipython",
    "version": 3
   },
   "file_extension": ".py",
   "mimetype": "text/x-python",
   "name": "python",
   "nbconvert_exporter": "python",
   "pygments_lexer": "ipython3",
   "version": "3.11.9"
  }
 },
 "nbformat": 4,
 "nbformat_minor": 5
}
