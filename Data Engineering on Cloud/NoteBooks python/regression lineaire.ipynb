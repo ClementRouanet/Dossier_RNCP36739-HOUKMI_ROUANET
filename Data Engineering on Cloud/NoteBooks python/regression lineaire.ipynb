{
  "nbformat": 4,
  "nbformat_minor": 2,
  "cells": [
    {
      "cell_type": "code",
      "execution_count": 38,
      "outputs": [],
      "metadata": {
        "jupyter": {
          "source_hidden": false,
          "outputs_hidden": false
        },
        "nteract": {
          "transient": {
            "deleting": false
          }
        }
      },
      "source": [
        "from pyspark.sql import Row\r\n",
        "import pyspark.sql.functions as F\r\n",
        "from pyspark.sql.types import StructType, StructField, StringType, IntegerType, TimestampType"
      ]
    },
    {
      "cell_type": "code",
      "execution_count": 39,
      "outputs": [],
      "metadata": {
        "jupyter": {
          "source_hidden": false,
          "outputs_hidden": false
        },
        "nteract": {
          "transient": {
            "deleting": false
          }
        }
      },
      "source": [
        "from pyspark.ml.feature import VectorAssembler\r\n",
        "from pyspark.ml.regression import LinearRegression"
      ]
    },
    {
      "cell_type": "code",
      "execution_count": 40,
      "outputs": [],
      "metadata": {
        "jupyter": {
          "source_hidden": false,
          "outputs_hidden": false
        },
        "nteract": {
          "transient": {
            "deleting": false
          }
        }
      },
      "source": [
        "import pandas as pd\r\n",
        "import matplotlib.pyplot as plt"
      ]
    },
    {
      "cell_type": "markdown",
      "metadata": {
        "nteract": {
          "transient": {
            "deleting": false
          }
        }
      },
      "source": [
        "# Chargement des données"
      ]
    },
    {
      "cell_type": "code",
      "execution_count": 41,
      "outputs": [],
      "metadata": {
        "microsoft": {}
      },
      "source": [
        "customers = spark.sql(\"SELECT * FROM `Database_Olist`.`customers`\")\r\n",
        "orders = spark.sql(\"SELECT * FROM `Database_Olist`.`orders`\")\r\n",
        "products = spark.sql(\"SELECT * FROM `Database_Olist`.`products`\")\r\n",
        "order_items = spark.sql(\"SELECT * FROM `Database_Olist`.`order_items`\")\r\n",
        "states_name = spark.sql(\"SELECT * FROM `Database_Olist`.`states_name`\")"
      ]
    },
    {
      "cell_type": "markdown",
      "metadata": {
        "nteract": {
          "transient": {
            "deleting": false
          }
        }
      },
      "source": [
        "# Jointure des Dataframes"
      ]
    },
    {
      "cell_type": "code",
      "execution_count": 42,
      "outputs": [],
      "metadata": {
        "jupyter": {
          "source_hidden": false,
          "outputs_hidden": false
        },
        "nteract": {
          "transient": {
            "deleting": false
          }
        }
      },
      "source": [
        "# Création d'un Dataframe global\r\n",
        "sales = order_items.alias(\"i\") \\\r\n",
        "    .join(products.alias(\"p\"), F.col(\"i.product_id\") == F.col(\"p.product_id\"), \"left\") \\\r\n",
        "    .join(orders.alias(\"o\"), F.col(\"i.order_id\") == F.col(\"o.order_id\"), \"left\") \\\r\n",
        "    .join(customers.alias(\"c\"), F.col(\"o.customer_id\") == F.col(\"c.customer_id\"), \"left\") \\\r\n",
        "    .join(states_name.alias(\"s\"), F.col(\"c.customer_state\") == F.col(\"s.geolocation_state\"), \"left\") \\\r\n",
        "    .withColumn(\"order_purchase_year\", F.year(F.col(\"o.order_purchase_timestamp\"))) \\\r\n",
        "    .withColumn(\"order_purchase_month\", F.month(F.col(\"o.order_purchase_timestamp\"))) \\\r\n",
        "    .withColumn(\"order_purchase_day\", F.dayofmonth(F.col(\"o.order_purchase_timestamp\")))\r\n",
        "\r\n",
        "\r\n",
        "sales = sales.select(\"i.order_id\", \r\n",
        "                     \"i.product_id\",\r\n",
        "                     \"o.customer_id\",\r\n",
        "                     \"i.seller_id\", \r\n",
        "                     \"i.order_item_id\", \r\n",
        "                     \"p.product_category_name\", \r\n",
        "                     \"i.price\", \r\n",
        "                     \"i.freight_value\", \r\n",
        "                     \"i.total_items_value\", \r\n",
        "                     \"i.total_freight_value\", \r\n",
        "                     \"i.total_order_value\", \r\n",
        "                     \"p.product_description_length\",\r\n",
        "                     \"p.product_photos_qty\",\r\n",
        "                     \"o.order_status\",\r\n",
        "                     \"o.order_purchase_timestamp\",\r\n",
        "                     \"order_purchase_year\",\r\n",
        "                     \"order_purchase_month\",\r\n",
        "                     \"order_purchase_day\",\r\n",
        "                     \"c.customer_city\",\r\n",
        "                     \"s.state_name\")\r\n",
        "\r\n",
        "sales.printSchema()"
      ]
    },
    {
      "cell_type": "markdown",
      "metadata": {
        "nteract": {
          "transient": {
            "deleting": false
          }
        }
      },
      "source": [
        "# Régression linéaire"
      ]
    },
    {
      "cell_type": "code",
      "execution_count": 43,
      "outputs": [],
      "metadata": {
        "jupyter": {
          "source_hidden": false,
          "outputs_hidden": false
        },
        "nteract": {
          "transient": {
            "deleting": false
          }
        },
        "collapsed": false
      },
      "source": [
        "# Regression linéaire : prévision des prix\r\n",
        "schema = StructType([\r\n",
        "    StructField(\"category\", StringType(), False),\r\n",
        "    StructField(\"sales\", IntegerType(), False),\r\n",
        "    StructField(\"year\", IntegerType(), False),\r\n",
        "    StructField(\"month\", IntegerType(), False),\r\n",
        "    StructField(\"date\", TimestampType(), True),\r\n",
        "])\r\n",
        "\r\n",
        "price_predictions = spark.createDataFrame(sc.emptyRDD(), schema)\r\n",
        "\r\n",
        "price_predictions.show()"
      ]
    },
    {
      "cell_type": "code",
      "execution_count": 44,
      "outputs": [],
      "metadata": {
        "jupyter": {
          "source_hidden": false,
          "outputs_hidden": false
        },
        "nteract": {
          "transient": {
            "deleting": false
          }
        }
      },
      "source": [
        "# Récupération de toutes les catégories\r\n",
        "categories = sales.select(F.col(\"product_category_name\").alias(\"category\")).distinct().orderBy(F.col(\"product_category_name\").asc()).collect()\r\n",
        "\r\n",
        "# Sélectionner les colonnes pertinentes pour la régression linéaire\r\n",
        "sales_reg = sales.select(\r\n",
        "    F.col(\"order_purchase_year\").alias(\"year\"),\r\n",
        "    F.col(\"order_purchase_month\").alias(\"month\"),\r\n",
        "    F.col(\"product_category_name\").alias(\"category\"),\r\n",
        "    F.col(\"total_order_value\").alias(\"sales\")\r\n",
        ")"
      ]
    },
    {
      "cell_type": "code",
      "execution_count": 45,
      "outputs": [],
      "metadata": {
        "jupyter": {
          "source_hidden": false,
          "outputs_hidden": false
        },
        "nteract": {
          "transient": {
            "deleting": false
          }
        }
      },
      "source": [
        "# Fonction permettant de réaliser la Régression linéaire\r\n",
        "def regression_lineaire(df_train, future_date, category) :\r\n",
        "    df_train = df_train.groupBy(\"year\", \"month\") \\\r\n",
        "        .agg(F.sum(\"sales\").alias(\"sales\"))\r\n",
        "    \r\n",
        "    # Assembler les fonctionnalités\r\n",
        "    assembler = VectorAssembler(\r\n",
        "        inputCols=[\"year\", \"month\"],\r\n",
        "        outputCol=\"features\"\r\n",
        "    )\r\n",
        "\r\n",
        "    # Transformer les données en utilisant l'assembler\r\n",
        "    sales_data = assembler.transform(df_train)\r\n",
        "    sales_data = sales_data.select(\"features\", \"sales\")\r\n",
        "\r\n",
        "    # Créer le modèle de régression linéaire\r\n",
        "    lr = LinearRegression(featuresCol=\"features\", labelCol=\"sales\")\r\n",
        "\r\n",
        "    # Ajuster le modèle aux données d'entraînement\r\n",
        "    lr_model = lr.fit(sales_data)\r\n",
        "\r\n",
        "    # Transformer les données en utilisant l'assembler\r\n",
        "    df_predicted = spark.createDataFrame(future_date, [\"year\", \"month\"])\r\n",
        "    df_predicted = assembler.transform(df_predicted).select(\"features\")\r\n",
        "\r\n",
        "    # Prédire les prix pour les dates futures\r\n",
        "    df_predicted = lr_model.transform(df_predicted)\r\n",
        "\r\n",
        "    # Assemblage des DataFrames train et predicted en RDD\r\n",
        "    rdd = sc.parallelize(sales_data.union(df_predicted).rdd.collect()) \\\r\n",
        "        .map(lambda row: Row(features=row.features.toArray().tolist(), sales=row.sales)) \\\r\n",
        "        .map(lambda x: (int(x.features[0]), int(x.features[1]), x.sales))\r\n",
        "    \r\n",
        "    # Créer un DataFrame à partir de l'RDD avec les noms de colonnes appropriés\r\n",
        "    df = rdd.toDF([\"year\", \"month\", \"sales\"]) \\\r\n",
        "        .withColumn(\"category\", F.lit(category)) \\\r\n",
        "        .withColumn(\"date\", F.to_date(F.concat(F.col(\"year\"), F.lit(\"-\"), F.col(\"month\"), F.lit(\"-01\")))) \\\r\n",
        "        .select(\"category\", \"sales\", \"year\", \"month\", \"date\")\r\n",
        "\r\n",
        "    return df"
      ]
    },
    {
      "cell_type": "code",
      "execution_count": 46,
      "outputs": [],
      "metadata": {
        "jupyter": {
          "source_hidden": false,
          "outputs_hidden": false
        },
        "nteract": {
          "transient": {
            "deleting": false
          }
        }
      },
      "source": [
        "# Création d'une liste de listes contenant les dates à prédire\r\n",
        "future_date = [[2018,9], [2018, 10], [2018, 11], [2018, 12]] + \\\r\n",
        "    [[year, month] for year in range(2019, 2022) for month in range(1, 13)]\r\n",
        "\r\n",
        "\r\n",
        "# Prédictions des prix pour chaque catégorie\r\n",
        "for c in categories :\r\n",
        "    category = c.category\r\n",
        "\r\n",
        "    df_train = sales_reg.filter(F.col(\"category\") == category)\r\n",
        "    df = regression_lineaire(df_train, future_date, category)\r\n",
        "    price_predictions = price_predictions.union(df)\r\n",
        "\r\n",
        "\r\n",
        "price_predictions.show()"
      ]
    },
    {
      "cell_type": "code",
      "execution_count": 47,
      "outputs": [],
      "metadata": {
        "jupyter": {
          "source_hidden": false,
          "outputs_hidden": false
        },
        "nteract": {
          "transient": {
            "deleting": false
          }
        }
      },
      "source": [
        "n = 10\r\n",
        "\r\n",
        "# Récupération de la plus grande date de prédiction\r\n",
        "max_date_row = price_predictions.agg(F.max(\"date\")).head()\r\n",
        "max_date = max_date_row[0]\r\n",
        "\r\n",
        "# Récupération des n catégories ayant les meilleures ventes\r\n",
        "best_categories_predicted = price_predictions.select(\"category\") \\\r\n",
        "    .filter(F.col(\"date\") == max_date) \\\r\n",
        "    .orderBy(F.col(\"sales\").desc()) \\\r\n",
        "    .head(n)\r\n",
        "\r\n",
        "# Mise sous forme de liste\r\n",
        "best_categories_predicted = [c.category for c in best_categories_predicted]\r\n",
        "best_categories_predicted"
      ]
    },
    {
      "cell_type": "code",
      "execution_count": 48,
      "outputs": [],
      "metadata": {
        "jupyter": {
          "source_hidden": false,
          "outputs_hidden": false
        },
        "nteract": {
          "transient": {
            "deleting": false
          }
        }
      },
      "source": [
        "# Création du dataframe avec uniquement les n meilleures catégories\r\n",
        "price_predictions_top_category = price_predictions \\\r\n",
        "    .filter(F.col(\"category\").isin(best_categories_predicted))\r\n",
        "    \r\n",
        "price_predictions_top_category.show()"
      ]
    },
    {
      "cell_type": "markdown",
      "metadata": {
        "nteract": {
          "transient": {
            "deleting": false
          }
        }
      },
      "source": [
        "# Représentation graphique des prédictions"
      ]
    },
    {
      "cell_type": "code",
      "execution_count": 49,
      "outputs": [],
      "metadata": {
        "jupyter": {
          "source_hidden": false,
          "outputs_hidden": false
        },
        "nteract": {
          "transient": {
            "deleting": false
          }
        }
      },
      "source": [
        "# Initialiser la figure\r\n",
        "plt.figure(figsize=(10, 6))\r\n",
        "\r\n",
        "for c in categories :\r\n",
        "    category = c.category\r\n",
        "\r\n",
        "    # Choisir la bonne catégorie et trier les données par date\r\n",
        "    predictions_pd = price_predictions.filter(F.col(\"category\") == category).orderBy(\"date\").toPandas()\r\n",
        "\r\n",
        "    # Tracer les données\r\n",
        "    if not predictions_pd.empty:\r\n",
        "        plt.plot(predictions_pd['date'], predictions_pd['sales'], label=category)\r\n",
        "\r\n",
        "\r\n",
        "plt.xlabel('Date')\r\n",
        "plt.ylabel('Sales')\r\n",
        "plt.title('Linear Regression Predictions')\r\n",
        "plt.legend(loc='center left', bbox_to_anchor=(1, 0.5))\r\n",
        "plt.grid(True)\r\n",
        "plt.show()"
      ]
    },
    {
      "cell_type": "code",
      "execution_count": 50,
      "outputs": [],
      "metadata": {
        "jupyter": {
          "source_hidden": false,
          "outputs_hidden": false
        },
        "nteract": {
          "transient": {
            "deleting": false
          }
        }
      },
      "source": [
        "# Initialiser la figure\r\n",
        "plt.figure(figsize=(10, 6))\r\n",
        "\r\n",
        "for category in best_categories_predicted :\r\n",
        "    # Choisir la bonne catégorie et trier les données par date\r\n",
        "    predictions_pd = price_predictions_top_category.filter(F.col(\"category\") == category).orderBy(\"date\").toPandas()\r\n",
        "\r\n",
        "    # Tracer les données\r\n",
        "    if not predictions_pd.empty:\r\n",
        "        plt.plot(predictions_pd['date'], predictions_pd['sales'], label=category)\r\n",
        "\r\n",
        "\r\n",
        "plt.xlabel('Date')\r\n",
        "plt.ylabel('Sales')\r\n",
        "plt.title('Linear Regression Predictions Top Categories')\r\n",
        "plt.legend(loc='center left', bbox_to_anchor=(1, 0.5))\r\n",
        "plt.grid(True)\r\n",
        "plt.show()"
      ]
    },
    {
      "cell_type": "markdown",
      "metadata": {
        "nteract": {
          "transient": {
            "deleting": false
          }
        }
      },
      "source": [
        "# Chargement des Dataframes en Parquet"
      ]
    },
    {
      "cell_type": "code",
      "execution_count": 51,
      "outputs": [],
      "metadata": {
        "jupyter": {
          "source_hidden": false,
          "outputs_hidden": false
        },
        "nteract": {
          "transient": {
            "deleting": false
          }
        }
      },
      "source": [
        "# Chemin de destination dans ADLS Gen2\r\n",
        "predictions_path = \"abfss://projetcloud@datalakecloud.dfs.core.windows.net/linear_regression/price_predictions\"\r\n",
        "top_category_predictions_path = \"abfss://projetcloud@datalakecloud.dfs.core.windows.net/linear_regression/price_predictions_top_category\"\r\n",
        "\r\n",
        "# Écrire les DataFrame au format Parquet\r\n",
        "price_predictions.write.mode(\"overwrite\").parquet(predictions_path)\r\n",
        "price_predictions_top_category.write.mode(\"overwrite\").parquet(top_category_predictions_path)"
      ]
    }
  ],
  "metadata": {
    "description": null,
    "save_output": true,
    "language_info": {
      "name": "python"
    }
  }
}